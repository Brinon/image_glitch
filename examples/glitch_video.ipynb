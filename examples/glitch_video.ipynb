{
 "cells": [
  {
   "cell_type": "code",
   "execution_count": null,
   "metadata": {},
   "outputs": [],
   "source": [
    "import imageio\n",
    "import sh\n",
    "import ffmpeg\n",
    "import subprocess"
   ]
  },
  {
   "cell_type": "code",
   "execution_count": 2,
   "metadata": {},
   "outputs": [],
   "source": [
    "import numpy as np\n",
    "\n",
    "from glitch import (\n",
    "    move_blocks,\n",
    "    salt_and_pepper,\n",
    "    move_channels_random,\n",
    "    get_video_size,\n",
    "    start_ffmpeg_writer,\n",
    "    start_ffmpeg_reader,\n",
    "    read_frame\n",
    ")"
   ]
  },
  {
   "cell_type": "code",
   "execution_count": 3,
   "metadata": {},
   "outputs": [
    {
     "name": "stdout",
     "output_type": "stream",
     "text": [
      "done\n"
     ]
    }
   ],
   "source": [
    "in_fname = 'IMG_7443.mov'\n",
    "out_fname = 'IMG_7443_glitch.mp4'\n",
    "width, height = get_video_size(in_fname)\n",
    "reader = start_ffmpeg_reader(in_fname)\n",
    "writer = start_ffmpeg_writer(out_fname, width, height)\n",
    "while True:\n",
    "    frame = read_frame(reader, width, height)\n",
    "    if frame is None:\n",
    "        # no more frames\n",
    "        break\n",
    "    \n",
    "    # process frame\n",
    "    roll = np.random.randint(0,6)\n",
    "    # 0 -> move channels\n",
    "    # 1 -> swap blocks\n",
    "    # 2 -> both\n",
    "    # 3+ -> nothing\n",
    "    \n",
    "    roll_noise = np.random.randint(0,4)\n",
    "    # if 0 or 1 noise\n",
    "    \n",
    "    frame = frame.copy()\n",
    "    if roll in [0, 2]:\n",
    "        frame = move_channels_random(frame, -15, 15)\n",
    "    if roll in [1, 2]:\n",
    "        blocksize_x = np.random.randint(min(width, height) * .1, max(width, height) * .5)\n",
    "        blocksize_y = np.random.randint(min(width, height) * .1, max(width, height) * .5)\n",
    "        frame = move_blocks(frame, blocksize=(blocksize_x, blocksize_y), num_blocks=3, per_channel=True)\n",
    "    \n",
    "    if roll_noise in [0, 1]:\n",
    "        frame = salt_and_pepper(frame,0.5, .02)\n",
    "\n",
    "    writer.stdin.write(frame.astype(np.uint8).tobytes())\n",
    "\n",
    "# cleanup\n",
    "reader.wait()\n",
    "writer.stdin.close()\n",
    "writer.wait()\n",
    "print('done')"
   ]
  },
  {
   "cell_type": "code",
   "execution_count": null,
   "metadata": {},
   "outputs": [],
   "source": []
  }
 ],
 "metadata": {
  "kernelspec": {
   "display_name": "Python 3",
   "language": "python",
   "name": "python3"
  },
  "language_info": {
   "codemirror_mode": {
    "name": "ipython",
    "version": 3
   },
   "file_extension": ".py",
   "mimetype": "text/x-python",
   "name": "python",
   "nbconvert_exporter": "python",
   "pygments_lexer": "ipython3",
   "version": "3.6.9"
  }
 },
 "nbformat": 4,
 "nbformat_minor": 2
}
